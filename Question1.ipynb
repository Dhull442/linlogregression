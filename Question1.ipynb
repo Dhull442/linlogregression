{
 "cells": [
  {
   "cell_type": "code",
   "execution_count": null,
   "metadata": {},
   "outputs": [],
   "source": [
    "import numpy as np\n",
    "import matplotlib\n",
    "import matplotlib.pyplot as plt\n",
    "from mpl_toolkits.mplot3d import Axes3D\n",
    "from matplotlib import animation\n",
    "import math\n",
    "import time\n",
    "FILE_X = 'data/q1/linearX.csv'\n",
    "FILE_Y = 'data/q1/linearY.csv'"
   ]
  },
  {
   "cell_type": "code",
   "execution_count": null,
   "metadata": {},
   "outputs": [],
   "source": [
    "lrate = 0.001\n",
    "esp = pow(10,-10)"
   ]
  },
  {
   "cell_type": "code",
   "execution_count": null,
   "metadata": {},
   "outputs": [],
   "source": [
    "datax = np.genfromtxt(FILE_X, delimiter=',')\n",
    "datay = np.genfromtxt(FILE_Y, delimiter=',')"
   ]
  },
  {
   "cell_type": "code",
   "execution_count": null,
   "metadata": {},
   "outputs": [],
   "source": [
    "# normalize X\n",
    "sft = np.mean(datax)\n",
    "div = np.var(datax) ** 0.5\n",
    "\n",
    "datax = (datax - sft)/div"
   ]
  },
  {
   "cell_type": "code",
   "execution_count": null,
   "metadata": {
    "scrolled": true
   },
   "outputs": [],
   "source": [
    "# batch wise learning\n",
    "p = np.zeros(2).astype(float)\n",
    "loss = 0\n",
    "es = []\n",
    "p0s = []\n",
    "p1s = []\n",
    "oldloss = 100000;\n",
    "while abs(loss-oldloss) > esp:\n",
    "    oldloss = loss;\n",
    "    loss = 0\n",
    "    dp = np.zeros_like(p).astype(float)\n",
    "    for i in range(0,len(datax)):\n",
    "        hx = np.matmul(p,[1,datax[i]])\n",
    "        error = hx - datay[i]\n",
    "        loss += (error**2)/2\n",
    "        delta = error*np.asarray([1,datax[i]])\n",
    "        dp += lrate*delta\n",
    "    loss = loss/len(datax)\n",
    "    es.append(loss)\n",
    "    p0s.append(p[0])\n",
    "    p1s.append(p[1])\n",
    "    dp/=len(datax)\n",
    "    print(loss)\n",
    "    p -= dp"
   ]
  },
  {
   "cell_type": "code",
   "execution_count": null,
   "metadata": {},
   "outputs": [],
   "source": [
    "print(p)"
   ]
  },
  {
   "cell_type": "code",
   "execution_count": null,
   "metadata": {
    "scrolled": false
   },
   "outputs": [],
   "source": [
    "## plotting Line\n",
    "plt.scatter(datax,datay,marker='.',c='g')\n",
    "x = np.linspace(-3,5,100)\n",
    "y = p[0] + p[1]*x\n",
    "plt.plot(x, y, '-r')\n",
    "plt.xlabel(\"input variable\")\n",
    "plt.ylabel(\"target variable\")\n",
    "plt.title(\"Linear Hypothesis vs original data\")\n",
    "plt.savefig('q1_linearfit.png')"
   ]
  },
  {
   "cell_type": "code",
   "execution_count": null,
   "metadata": {},
   "outputs": [],
   "source": [
    "# fig = plt.figure()\n",
    "# ax = fig.add_subplot(111, projection='3d')\n",
    "# X, Y = np.mgrid[-10:10:30j, -10:10:30j]\n",
    "# Z = 0\n",
    "# for i in range(0,len(datax)):\n",
    "#     Z += ((datay[i] - X - Y*datax[i])**2)/(2*len(datax))\n",
    "# ax.plot_surface(X, Y, Z, cmap=\"autumn_r\", lw=0.5, rstride=1, cstride=1,alpha=0.7)\n",
    "# # ax.contour(X, Y, Z, 10, lw=3, cmap=\"autumn_r\", linestyles=\"solid\", offset=-1)\n",
    "# # # ax.contour(X, Y, Z, 10, lw=3, colors=\"k\", linestyles=\"solid\")\n",
    "\n",
    "# # ax.contour(X, Y, Z, 10, lw=3, colors=\"k\", linestyles=\"solid\")\n",
    "\n",
    "# # ax.plot_surface(X, Y, Z, cmap=\"autumn_r\", lw=0.5, rstride=1, cstride=1)\n",
    "# ax.contour(X, Y, Z, 10, lw=3, cmap=\"autumn_r\", linestyles=\"solid\", offset=-1)\n",
    "# ax.contour(X, Y, Z, 10, lw=3, colors=\"k\", linestyles=\"solid\")"
   ]
  },
  {
   "cell_type": "code",
   "execution_count": null,
   "metadata": {
    "scrolled": true
   },
   "outputs": [],
   "source": [
    "# point motion\n",
    "fig = plt.figure()\n",
    "ax = fig.add_subplot(111, projection='3d')\n",
    "X, Y = np.mgrid[0:1:30j, 0:0.002:30j]\n",
    "Z = 0\n",
    "for i in range(0,len(datax)):\n",
    "    Z += ((datay[i] - X - Y*datax[i])**2)/(2*len(datax))\n",
    "ax.plot_surface(X, Y, Z, cmap=\"autumn_r\", lw=0.5, rstride=1, cstride=1, alpha=0.7)\n",
    "# ax.contour(X, Y, Z, 10, lw=3, cmap=\"autumn_r\", linestyles=\"solid\", offset=-1)\n",
    "ax.contour(X, Y, Z, 10, lw=3, colors=\"k\", linestyles=\"solid\")\n",
    "ax.set_xlim(0, 1)\n",
    "ax.set_ylim(0, 0.0014)\n",
    "ax.set_zlim(0, 0.5)\n",
    "ax.set_title('3D point motion lr=0.001')\n",
    "ax.set_xlabel('param[0]')\n",
    "ax.set_ylabel('param[1]')\n",
    "ax.set_zlabel('Error')\n",
    "point, = ax.plot([p0s[0]], [p1s[0]], [es[0]], 'x',c='blue')\n",
    "def update_point(n, x, y, z, point):\n",
    "#     print(n)\n",
    "    point.set_data(np.array([x[n], y[n]]))\n",
    "    point.set_3d_properties(z[n], 'z')\n",
    "    return point\n",
    "\n",
    "ani = animation.FuncAnimation(fig, update_point,len(es), fargs=(p0s, p1s, es, point))\n",
    "\n",
    "writer=animation.writers['ffmpeg'](fps=20)\n",
    "dpi = 200\n",
    "ani.save('q1_pointmotion.mp4',writer=writer,dpi=dpi)"
   ]
  },
  {
   "cell_type": "code",
   "execution_count": null,
   "metadata": {
    "scrolled": true
   },
   "outputs": [],
   "source": [
    "# contours\n",
    "xlist = np.linspace(0, 1.25, 100) # Create 1-D arrays for x,y dimensions\n",
    "ylist = np.linspace(-0.002, 0.0020, 100) \n",
    "X,Y = np.meshgrid(xlist, ylist) # Create 2-D grid xlist,ylist values\n",
    "F = 0\n",
    "for i in range(0,len(datax)):\n",
    "    F += ((datay[i] - X  - Y*datax[i])**2)/(2*len(datax))\n",
    "\n",
    "# animation\n",
    "fig = plt.figure()\n",
    "def animate(i): \n",
    "# For color variation\n",
    "#     c='white'\n",
    "#     if(i>len(es)*0.5):\n",
    "#         c = 'maroon'\n",
    "#     elif(i>len(es)*0.3):\n",
    "#         c = 'red'\n",
    "#     elif(i>len(es)*0.2):\n",
    "#         c = 'orange'\n",
    "#     elif(i>len(es)*0.1):\n",
    "#         c = 'green'\n",
    "#     else:\n",
    "#         c = 'blue'\n",
    "#     if i%5 == 0:\n",
    "    plt.plot([p0s[i]],[p1s[i]],color = 'black',marker='.',markersize=2)\n",
    "    Fp = F - es[i]\n",
    "    plt.xlabel(\"param[0]\")\n",
    "    plt.ylabel(\"param[1]\")\n",
    "    plt.title(\"Contours lr=0.001\")\n",
    "#     print(i)\n",
    "    cont = plt.contour(X, Y, Fp, [0],colors='yellow',linestyles = 'solid')\n",
    "    return cont\n",
    "\n",
    "anim = animation.FuncAnimation(fig, animate, frames=len(es))\n",
    "writer=animation.writers['ffmpeg'](fps=20)\n",
    "dpi = 200\n",
    "anim.save('q1_contour.mp4',writer=writer,dpi=dpi)"
   ]
  }
 ],
 "metadata": {
  "kernelspec": {
   "display_name": "Python 3",
   "language": "python",
   "name": "python3"
  },
  "language_info": {
   "codemirror_mode": {
    "name": "ipython",
    "version": 2
   },
   "file_extension": ".py",
   "mimetype": "text/x-python",
   "name": "python",
   "nbconvert_exporter": "python",
   "pygments_lexer": "ipython2",
   "version": "2.7.16"
  }
 },
 "nbformat": 4,
 "nbformat_minor": 2
}
