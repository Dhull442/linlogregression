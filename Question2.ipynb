{
 "cells": [
  {
   "cell_type": "code",
   "execution_count": 1,
   "metadata": {},
   "outputs": [],
   "source": [
    "import numpy as np\n",
    "FILE = \"data/q2/q2test.csv\""
   ]
  },
  {
   "cell_type": "code",
   "execution_count": 19,
   "metadata": {},
   "outputs": [],
   "source": [
    "#sampling\n",
    "num_pts = 1000000\n",
    "theta = np.asarray([3,1,2])\n",
    "x1_p = [3,2]\n",
    "x2_p = [-1,2]\n",
    "e_p = [0,2.0**1/2]"
   ]
  },
  {
   "cell_type": "code",
   "execution_count": 20,
   "metadata": {},
   "outputs": [],
   "source": [
    "datax1 = np.random.normal(x1_p[0],x1_p[1],num_pts)\n",
    "datax2 = np.random.normal(x2_p[0],x2_p[1],num_pts)\n",
    "datae = np.random.normal(e_p[0],e_p[1],num_pts)"
   ]
  },
  {
   "cell_type": "code",
   "execution_count": 21,
   "metadata": {},
   "outputs": [],
   "source": [
    "datay = theta[0] + datax1 * theta[1] + datax2 * theta[2] + datae"
   ]
  },
  {
   "cell_type": "code",
   "execution_count": 47,
   "metadata": {},
   "outputs": [],
   "source": [
    "batchSize = 1000\n",
    "lrate = 0.0001\n",
    "losslim = 0.53"
   ]
  },
  {
   "cell_type": "code",
   "execution_count": 48,
   "metadata": {},
   "outputs": [
    {
     "name": "stdout",
     "output_type": "stream",
     "text": [
      "10.620922414239487\n",
      "4.677333335996155\n",
      "2.8368923547396334\n",
      "2.028269614314443\n",
      "1.6418910830303193\n",
      "1.4443148782393824\n",
      "1.3327222472619062\n",
      "1.2609637652964965\n",
      "1.2082470976259816\n",
      "1.1651701285967624\n",
      "1.1274511359554564\n",
      "1.0931119723578688\n",
      "1.061212354010506\n",
      "1.0312810346148884\n",
      "1.0030600902672149\n",
      "0.976389890412201\n",
      "0.951157285560745\n"
     ]
    },
    {
     "ename": "KeyboardInterrupt",
     "evalue": "",
     "output_type": "error",
     "traceback": [
      "\u001b[0;31m---------------------------------------------------------------------------\u001b[0m",
      "\u001b[0;31mKeyboardInterrupt\u001b[0m                         Traceback (most recent call last)",
      "\u001b[0;32m<ipython-input-48-c149736d7400>\u001b[0m in \u001b[0;36m<module>\u001b[0;34m()\u001b[0m\n\u001b[1;32m     15\u001b[0m             \u001b[0mloss\u001b[0m \u001b[0;34m+=\u001b[0m \u001b[0;34m(\u001b[0m\u001b[0merror\u001b[0m\u001b[0;34m**\u001b[0m\u001b[0;36m2\u001b[0m\u001b[0;34m)\u001b[0m\u001b[0;34m/\u001b[0m\u001b[0;36m2\u001b[0m\u001b[0;34m\u001b[0m\u001b[0m\n\u001b[1;32m     16\u001b[0m             \u001b[0mdelta\u001b[0m \u001b[0;34m=\u001b[0m \u001b[0merror\u001b[0m\u001b[0;34m*\u001b[0m\u001b[0mnp\u001b[0m\u001b[0;34m.\u001b[0m\u001b[0masarray\u001b[0m\u001b[0;34m(\u001b[0m\u001b[0;34m[\u001b[0m\u001b[0;36m1\u001b[0m\u001b[0;34m,\u001b[0m\u001b[0mdatax1\u001b[0m\u001b[0;34m[\u001b[0m\u001b[0mj\u001b[0m\u001b[0;34m]\u001b[0m\u001b[0;34m,\u001b[0m\u001b[0mdatax2\u001b[0m\u001b[0;34m[\u001b[0m\u001b[0mj\u001b[0m\u001b[0;34m]\u001b[0m\u001b[0;34m]\u001b[0m\u001b[0;34m)\u001b[0m\u001b[0;34m\u001b[0m\u001b[0m\n\u001b[0;32m---> 17\u001b[0;31m             \u001b[0mdp\u001b[0m \u001b[0;34m+=\u001b[0m \u001b[0mlrate\u001b[0m\u001b[0;34m*\u001b[0m\u001b[0mdelta\u001b[0m\u001b[0;34m\u001b[0m\u001b[0m\n\u001b[0m\u001b[1;32m     18\u001b[0m         \u001b[0mnet_loss\u001b[0m \u001b[0;34m+=\u001b[0m \u001b[0mloss\u001b[0m\u001b[0;34m\u001b[0m\u001b[0m\n\u001b[1;32m     19\u001b[0m         \u001b[0mth\u001b[0m \u001b[0;34m-=\u001b[0m \u001b[0mdp\u001b[0m\u001b[0;34m/\u001b[0m\u001b[0mbatchSize\u001b[0m\u001b[0;34m\u001b[0m\u001b[0m\n",
      "\u001b[0;31mKeyboardInterrupt\u001b[0m: "
     ]
    }
   ],
   "source": [
    "th = np.zeros(3).astype(float)\n",
    "loss = 100\n",
    "# while(loss>losslim):\n",
    "net_loss = 10\n",
    "while net_loss > losslim:\n",
    "    net_loss = 0\n",
    "    for b in range(0,num_pts/batchSize):\n",
    "        dp = np.zeros(3).astype(float)\n",
    "        loss = 0\n",
    "        for i in range(0,batchSize):\n",
    "            j = b*batchSize + i\n",
    "            hx = th[0] + th[1]*datax1[j] + th[2]*datax2[j]\n",
    "            error = hx - datay[j]\n",
    "#             jvals.append((error**2)/2)\n",
    "            loss += (error**2)/2\n",
    "            delta = error*np.asarray([1,datax1[j],datax2[j]])\n",
    "            dp += lrate*delta\n",
    "        net_loss += loss\n",
    "        th -= dp/batchSize\n",
    "    net_loss = net_loss/num_pts\n",
    "    print(net_loss)\n",
    "#     break;\n"
   ]
  },
  {
   "cell_type": "code",
   "execution_count": 45,
   "metadata": {},
   "outputs": [],
   "source": [
    "#testing\n",
    "test_data = np.genfromtxt(FILE, delimiter=',')[1:]"
   ]
  },
  {
   "cell_type": "code",
   "execution_count": 49,
   "metadata": {},
   "outputs": [
    {
     "name": "stdout",
     "output_type": "stream",
     "text": [
      "9.551567905672949\n"
     ]
    }
   ],
   "source": [
    "loss = 0\n",
    "for i in range(0,len(test_data)):\n",
    "    hx = th[0] + th[1] * test_data[i,0] + th[2] * test_data[i,1]\n",
    "    error = hx - test_data[i,2]\n",
    "    loss += (error ** 2)/2\n",
    "loss /= len(test_data)\n",
    "print(loss)"
   ]
  }
 ],
 "metadata": {
  "kernelspec": {
   "display_name": "Python 3",
   "language": "python",
   "name": "python3"
  },
  "language_info": {
   "codemirror_mode": {
    "name": "ipython",
    "version": 2
   },
   "file_extension": ".py",
   "mimetype": "text/x-python",
   "name": "python",
   "nbconvert_exporter": "python",
   "pygments_lexer": "ipython2",
   "version": "2.7.16"
  }
 },
 "nbformat": 4,
 "nbformat_minor": 2
}
