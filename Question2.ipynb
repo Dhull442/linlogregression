{
 "cells": [
  {
   "cell_type": "code",
   "execution_count": null,
   "metadata": {},
   "outputs": [],
   "source": [
    "import numpy as np\n",
    "FILE = \"data/q2/q2test.csv\""
   ]
  },
  {
   "cell_type": "code",
   "execution_count": null,
   "metadata": {},
   "outputs": [],
   "source": [
    "#sampling\n",
    "num_pts = 1000000\n",
    "theta = np.asarray([3,1,2])\n",
    "x1_p = [3,2]\n",
    "x2_p = [-1,2]\n",
    "e_p = [0,2.0**1/2]"
   ]
  },
  {
   "cell_type": "code",
   "execution_count": null,
   "metadata": {},
   "outputs": [],
   "source": [
    "datax1 = np.random.normal(x1_p[0],x1_p[1],num_pts)\n",
    "datax2 = np.random.normal(x2_p[0],x2_p[1],num_pts)\n",
    "datae = np.random.normal(e_p[0],e_p[1],num_pts)"
   ]
  },
  {
   "cell_type": "code",
   "execution_count": null,
   "metadata": {},
   "outputs": [],
   "source": [
    "datay = theta[0] + datax1 * theta[1] + datax2 * theta[2] + datae"
   ]
  },
  {
   "cell_type": "code",
   "execution_count": null,
   "metadata": {},
   "outputs": [],
   "source": [
    "batchSize = 1\n",
    "lrate = 0.0001\n",
    "esp = pow(10,-5)"
   ]
  },
  {
   "cell_type": "code",
   "execution_count": null,
   "metadata": {
    "scrolled": true
   },
   "outputs": [],
   "source": [
    "th = np.zeros(3).astype(float)\n",
    "net_loss = 10\n",
    "itrs = 0;\n",
    "oldloss = 1000\n",
    "itr=True\n",
    "# ths = np.asarray([th])\n",
    "p0s = [th[0]]\n",
    "p1s = [th[1]]\n",
    "p2s = [th[2]]\n",
    "es = []\n",
    "err = 0\n",
    "while itr:\n",
    "    net_loss = 0\n",
    "    err = 0\n",
    "    for b in range(0,num_pts/batchSize):\n",
    "        dp = np.zeros(3).astype(float)\n",
    "        loss = 0\n",
    "        for i in range(0,batchSize):\n",
    "            j = b*batchSize + i\n",
    "            hx = th[0] + th[1]*datax1[j] + th[2]*datax2[j]\n",
    "            error = hx - datay[j]\n",
    "            loss += (error**2)/2\n",
    "            delta = error*np.asarray([1,datax1[j],datax2[j]])\n",
    "            dp += lrate*delta\n",
    "        err += loss/batchSize\n",
    "        err /= 2\n",
    "        th -= dp/batchSize\n",
    "        p0s.append(th[0])\n",
    "        p1s.append(th[1])\n",
    "        p2s.append(th[2])\n",
    "        es.append(err)\n",
    "    print(err)\n",
    "    itrs+=1;\n",
    "    net_loss = err\n",
    "    if(abs(net_loss - oldloss)<esp):\n",
    "        print(itrs)\n",
    "        break;\n",
    "    oldloss = net_loss"
   ]
  },
  {
   "cell_type": "code",
   "execution_count": null,
   "metadata": {},
   "outputs": [],
   "source": [
    "# import matplotlib.pyplot as plt\n",
    "# plt.plot(p0s)\n",
    "# plt.plot(p1s)\n",
    "# plt.plot(p2s)\n",
    "# plt.show()"
   ]
  },
  {
   "cell_type": "code",
   "execution_count": null,
   "metadata": {},
   "outputs": [],
   "source": [
    "# len(ths)\n",
    "print(th)"
   ]
  },
  {
   "cell_type": "code",
   "execution_count": null,
   "metadata": {},
   "outputs": [],
   "source": [
    "print(np.sum((th-[3,1,2])**2))"
   ]
  },
  {
   "cell_type": "code",
   "execution_count": null,
   "metadata": {},
   "outputs": [],
   "source": [
    "#testing\n",
    "test_data = np.genfromtxt(FILE, delimiter=',')[1:]"
   ]
  },
  {
   "cell_type": "code",
   "execution_count": null,
   "metadata": {},
   "outputs": [],
   "source": [
    "loss = 0\n",
    "for i in range(0,len(test_data)):\n",
    "    hx = th[0] + th[1] * test_data[i,0] + th[2] * test_data[i,1]\n",
    "    error = hx - test_data[i,2]\n",
    "    loss += (error ** 2)/2\n",
    "loss /= len(test_data)\n",
    "print(loss)"
   ]
  },
  {
   "cell_type": "code",
   "execution_count": null,
   "metadata": {
    "scrolled": true
   },
   "outputs": [],
   "source": [
    "# animation\n",
    "print(len(p1s))\n",
    "from mpl_toolkits.mplot3d import Axes3D\n",
    "from matplotlib import animation\n",
    "fig = plt.figure()\n",
    "ax = fig.add_subplot(111, projection='3d')\n",
    "ax.set_xlim(0, 3.5)\n",
    "ax.set_ylim(0, 1.5)\n",
    "ax.set_zlim(0, 2.5)\n",
    "string = str(batchSize) + \" \"  + str(lrate)\n",
    "ax.set_title('3D params motion '+string)\n",
    "ax.set_xlabel('param[0]')\n",
    "ax.set_ylabel('param[1]')\n",
    "ax.set_zlabel('param[2]')\n",
    "point, = ax.plot([p0s[0]], [p1s[0]], [p2s[0]], 'x')\n",
    "def update_point(n, x, y, z, point):\n",
    "    print(n)\n",
    "    point.set_data(np.array([x[n], y[n]]))\n",
    "    point.set_3d_properties(z[n], 'z')\n",
    "    return point\n",
    "\n",
    "ani = animation.FuncAnimation(fig, update_point,2000, fargs=(p0s, p1s, p2s, point))\n",
    "\n",
    "writer=animation.writers['ffmpeg'](fps=20)\n",
    "dpi = 200\n",
    "ani.save('q2_parmotion.mp4',writer=writer,dpi=dpi)"
   ]
  }
 ],
 "metadata": {
  "kernelspec": {
   "display_name": "Python 3",
   "language": "python",
   "name": "python3"
  },
  "language_info": {
   "codemirror_mode": {
    "name": "ipython",
    "version": 2
   },
   "file_extension": ".py",
   "mimetype": "text/x-python",
   "name": "python",
   "nbconvert_exporter": "python",
   "pygments_lexer": "ipython2",
   "version": "2.7.16"
  }
 },
 "nbformat": 4,
 "nbformat_minor": 2
}
