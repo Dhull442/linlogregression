{
 "cells": [
  {
   "cell_type": "code",
   "execution_count": null,
   "metadata": {},
   "outputs": [],
   "source": [
    "import numpy as np\n",
    "FILE = \"data/q2/q2test.csv\""
   ]
  },
  {
   "cell_type": "code",
   "execution_count": null,
   "metadata": {},
   "outputs": [],
   "source": [
    "#sampling\n",
    "num_pts = 1000000\n",
    "theta = np.asarray([3,1,2])\n",
    "x1_p = [3,2]\n",
    "x2_p = [-1,2]\n",
    "e_p = [0,2.0**1/2]"
   ]
  },
  {
   "cell_type": "code",
   "execution_count": null,
   "metadata": {},
   "outputs": [],
   "source": [
    "datax1 = np.random.normal(x1_p[0],x1_p[1],num_pts)\n",
    "datax2 = np.random.normal(x2_p[0],x2_p[1],num_pts)\n",
    "datae = np.random.normal(e_p[0],e_p[1],num_pts)"
   ]
  },
  {
   "cell_type": "code",
   "execution_count": null,
   "metadata": {},
   "outputs": [],
   "source": [
    "datay = theta[0] + datax1 * theta[1] + datax2 * theta[2] + datae"
   ]
  },
  {
   "cell_type": "code",
   "execution_count": null,
   "metadata": {},
   "outputs": [],
   "source": [
    "batchSize = 1000\n",
    "lrate = 0.0001\n",
    "losslim = 0.53"
   ]
  },
  {
   "cell_type": "code",
   "execution_count": null,
   "metadata": {},
   "outputs": [],
   "source": [
    "th = np.zeros(3).astype(float)\n",
    "loss = 100\n",
    "# while(loss>losslim):\n",
    "net_loss = 10\n",
    "while net_loss > losslim:\n",
    "    net_loss = 0\n",
    "    for b in range(0,num_pts/batchSize):\n",
    "        dp = np.zeros(3).astype(float)\n",
    "        loss = 0\n",
    "        for i in range(0,batchSize):\n",
    "            j = b*batchSize + i\n",
    "            hx = th[0] + th[1]*datax1[j] + th[2]*datax2[j]\n",
    "            error = hx - datay[j]\n",
    "#             jvals.append((error**2)/2)\n",
    "            loss += (error**2)/2\n",
    "            delta = error*np.asarray([1,datax1[j],datax2[j]])\n",
    "            dp += lrate*delta\n",
    "        net_loss += loss\n",
    "        th -= dp/batchSize\n",
    "    net_loss = net_loss/num_pts\n",
    "    print(net_loss)\n",
    "#     break;\n"
   ]
  },
  {
   "cell_type": "code",
   "execution_count": null,
   "metadata": {},
   "outputs": [],
   "source": [
    "#testing\n",
    "test_data = np.genfromtxt(FILE, delimiter=',')[1:]"
   ]
  },
  {
   "cell_type": "code",
   "execution_count": null,
   "metadata": {},
   "outputs": [],
   "source": [
    "loss = 0\n",
    "for i in range(0,len(test_data)):\n",
    "    hx = th[0] + th[1] * test_data[i,0] + th[2] * test_data[i,1]\n",
    "    error = hx - test_data[i,2]\n",
    "    loss += (error ** 2)/2\n",
    "loss /= len(test_data)\n",
    "print(loss)"
   ]
  }
 ],
 "metadata": {
  "kernelspec": {
   "display_name": "Python 3",
   "language": "python",
   "name": "python3"
  },
  "language_info": {
   "codemirror_mode": {
    "name": "ipython",
    "version": 2
   },
   "file_extension": ".py",
   "mimetype": "text/x-python",
   "name": "python",
   "nbconvert_exporter": "python",
   "pygments_lexer": "ipython2",
   "version": "2.7.16"
  }
 },
 "nbformat": 4,
 "nbformat_minor": 2
}
