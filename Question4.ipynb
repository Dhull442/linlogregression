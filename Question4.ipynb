{
 "cells": [
  {
   "cell_type": "code",
   "execution_count": null,
   "metadata": {},
   "outputs": [],
   "source": [
    "import numpy as np\n",
    "import matplotlib.pyplot as plt\n",
    "import math\n",
    "FILE_X = \"data/q4/q4x.dat\"\n",
    "FILE_Y = \"data/q4/q4y.dat\""
   ]
  },
  {
   "cell_type": "code",
   "execution_count": null,
   "metadata": {},
   "outputs": [],
   "source": [
    "datax = np.genfromtxt(FILE_X, delimiter='  ')"
   ]
  },
  {
   "cell_type": "code",
   "execution_count": null,
   "metadata": {},
   "outputs": [],
   "source": [
    "#normalizing\n",
    "mean1 = np.mean(datax[:,0])\n",
    "var1 = np.var(datax[:,0])\n",
    "mean2 = np.mean(datax[:,1])\n",
    "var2 = np.var(datax[:,1])\n",
    "datax[:,0] = (datax[:,0] - mean1)/(var1**0.5)\n",
    "datax[:,1] = (datax[:,1] - mean2)/(var2**0.5)"
   ]
  },
  {
   "cell_type": "code",
   "execution_count": null,
   "metadata": {},
   "outputs": [],
   "source": [
    "## 0 is for alaska\n",
    "datay = []\n",
    "with open(FILE_Y, 'r') as f:\n",
    "    for line in f:\n",
    "        if(\"Alaska\" in line):\n",
    "            datay.append(0)\n",
    "        else:\n",
    "            datay.append(1)\n",
    "datay = np.asarray(datay)"
   ]
  },
  {
   "cell_type": "code",
   "execution_count": null,
   "metadata": {},
   "outputs": [],
   "source": [
    "#params\n",
    "frac0 = 0\n",
    "mu0 = np.zeros(2)\n",
    "mu1 = np.zeros(2)\n",
    "phi = 0.0\n",
    "var = np.zeros((2,2))\n",
    "\n",
    "for i in range(0,len(datax)):\n",
    "    if(datay[i] == 0):\n",
    "        frac0+=1;\n",
    "        mu0 += datax[i]\n",
    "    else:\n",
    "        phi+=1\n",
    "        mu1 += datax[i]\n",
    "\n",
    "phi = phi/len(datay)\n",
    "mu0 = mu0/(frac0)\n",
    "mu1 = mu1/(len(datay) - frac0)\n",
    "\n",
    "for i in range(0,len(datax)):\n",
    "    x = np.zeros(2)\n",
    "    if(datay[i] == 0):\n",
    "        x = datax[i] - mu0\n",
    "    else:\n",
    "        x = datax[i] - mu1\n",
    "    x = np.asarray([x])\n",
    "    var += np.matmul(x.T,x)\n",
    "\n",
    "var /= len(datay)"
   ]
  },
  {
   "cell_type": "code",
   "execution_count": null,
   "metadata": {},
   "outputs": [],
   "source": [
    "var"
   ]
  },
  {
   "cell_type": "code",
   "execution_count": null,
   "metadata": {},
   "outputs": [],
   "source": [
    "mu1"
   ]
  },
  {
   "cell_type": "code",
   "execution_count": null,
   "metadata": {},
   "outputs": [],
   "source": [
    "# training data plotting\n",
    "color = ['red' if l == 1 else 'green' for l in datay]\n",
    "plt.scatter(datax[:,0],datax[:,1],color = color,marker = 'x')\n",
    "plt.xlabel(\"x[0]\")\n",
    "plt.ylabel(\"x[1]\")\n",
    "plt.title(\"Training data\")\n",
    "plt.savefig('q4_td.png')"
   ]
  },
  {
   "cell_type": "raw",
   "metadata": {},
   "source": [
    "eqn ===\n",
    "((x_1 - mu1_1)^2 - (x_1 - mu0_1)^2)*(e11)  + (x_1 - mu1_1)(x_2 - mu1_2) - (x_1 - mu0_1)(x_2 - mu0_2) ( e12 + e21 ) + ((x_2 - mu1_2)^2 - (x_2 - mu1_1)^2))*e12 = 2(ln(phi/1-phi))\n",
    "(2x_1 - (mu1_1 + mu0_1))(mu0_1 - mu1_1)*e11 + (mu0_1 - mu1_1) * x_2 + (mu0_2 - mu1_2) * x_1 ( e12 + e21) + (2*x_2 - (mu1_1 + mu0_1))(mu0_2 - mu1_2) * e22 = 2*ln(phi/1-phi)\n"
   ]
  },
  {
   "cell_type": "code",
   "execution_count": null,
   "metadata": {},
   "outputs": [],
   "source": [
    "pars = np.zeros(6)\n",
    "# pars[0] + pars[1]*x1 + pars[2] * x2 + pars[3] * x1 * x2 + pars[4]* x1**2 + pars[5]*x2**2\n",
    "inv0 = np.linalg.inv(var)\n",
    "inv1 = np.linalg.inv(var)\n",
    "pars[0] = mu0[0]**2 * inv0[0][0] + mu0[0]*mu0[1] * (inv0[0][1]+inv0[1][0]) + mu0[1]**2 * inv0[1][1] - (mu1[0]**2 * inv1[0][0] + mu1[0]*mu1[1] * (inv1[0][1]+inv1[1][0]) + mu1[1]**2 * inv1[1][1]) + 2 * math.log(phi/(1-phi))\n",
    "pars[1] = -2 * mu0[0]*inv0[0][0] - mu0[1]*(inv0[0][1]+inv0[1][0]) - (-2 * mu1[0]*inv1[0][0] - mu1[1]*(inv1[0][1]+inv1[1][0]))\n",
    "pars[2] = -2 * mu0[1]*inv0[1][1] - mu0[0]*(inv0[0][1]+inv0[1][0]) - (-2 * mu1[1]*inv1[1][1] - mu1[0]*(inv1[0][1]+inv1[1][0]))\n",
    "pars[3] = (inv0[0][1]+inv0[1][0]) - (inv1[0][1]+inv1[1][0])\n",
    "pars[4] = inv0[0][0] - inv1[0][0]\n",
    "pars[5] = inv0[1][1] - inv1[1][1]"
   ]
  },
  {
   "cell_type": "code",
   "execution_count": null,
   "metadata": {},
   "outputs": [],
   "source": [
    "pars"
   ]
  },
  {
   "cell_type": "code",
   "execution_count": null,
   "metadata": {},
   "outputs": [],
   "source": [
    "linepars = pars"
   ]
  },
  {
   "cell_type": "code",
   "execution_count": null,
   "metadata": {},
   "outputs": [],
   "source": [
    "# training data plotting\n",
    "color = ['red' if l == 1 else 'green' for l in datay]\n",
    "plt.scatter(datax[:,0],datax[:,1],color = color,marker = 'x')\n",
    "x = np.linspace(-3,3,100)\n",
    "y = (linepars[0] + linepars[2]*x)/(-linepars[1])\n",
    "plt.plot(y,x, '-r',color = 'blue')\n",
    "plt.xlabel(\"x[0]\")\n",
    "plt.ylabel(\"x[1]\")\n",
    "plt.title(\"Decision boundary on Training data\")\n",
    "plt.savefig('q4_linear.png')"
   ]
  },
  {
   "cell_type": "code",
   "execution_count": null,
   "metadata": {},
   "outputs": [],
   "source": [
    "# diff variances\n",
    "var0 = np.zeros((2,2)).astype(float)\n",
    "var1 = np.zeros((2,2)).astype(float)\n",
    "for i in range(0,len(datay)):\n",
    "    x = np.zeros(2)\n",
    "    if(datay[i] == 0):\n",
    "        x = datax[i] - mu0\n",
    "    else:\n",
    "        x = datax[i] - mu1\n",
    "    x = np.asarray([x])\n",
    "    if(datay[i]==0):\n",
    "        var0 += np.matmul(x.T,x)\n",
    "    else:\n",
    "        var1 += np.matmul(x.T,x)\n",
    "var0 = var0 / frac0\n",
    "var1 = var1 / (len(datay) - frac0)"
   ]
  },
  {
   "cell_type": "code",
   "execution_count": null,
   "metadata": {},
   "outputs": [],
   "source": [
    "var1"
   ]
  },
  {
   "cell_type": "raw",
   "metadata": {},
   "source": [
    "x1^2 = v0_11 - v1_11\n",
    "x2^2 = v0_22 - v1_22\n",
    "x1 = -2*mu0_1*v0_11 - mu0_2*(v0_12 + v0_21) + 2*mu1_1*v1_11 + mu1_2 * (v1_12 + v1_21)\n",
    "x2 = -2*mu0_2*v0_22 - mu0_1*(v0_12 + v0_21) + 2*mu1_2*v1_22 + mu1_2 * (v1_12 + v1_21)\n",
    "x1*x2 = (v0_12 + v0_21) - (v1_12 + v1_21)\n",
    "c = mu0_1^2 * v0_11 + mu0_1 * mu0_2 * (v0_12 + v0_21) + mu0_2^2 * v0_22 - (same for 1) + 2 ln(phi1/phi2)"
   ]
  },
  {
   "cell_type": "code",
   "execution_count": null,
   "metadata": {},
   "outputs": [],
   "source": [
    "pars = np.zeros(6)\n",
    "# pars[0] + pars[1]*x1 + pars[2] * x2 + pars[3] * x1 * x2 + pars[4]* x1**2 + pars[5]*x2**2\n",
    "inv0 = np.linalg.inv(var0)\n",
    "inv1 = np.linalg.inv(var1)\n",
    "pars[0] = mu0[0]**2 * inv0[0][0] + mu0[0]*mu0[1] * (inv0[0][1]+inv0[1][0]) + mu0[1]**2 * inv0[1][1] - (mu1[0]**2 * inv1[0][0] + mu1[0]*mu1[1] * (inv1[0][1]+inv1[1][0]) + mu1[1]**2 * inv1[1][1]) + 2 * math.log(phi/(1-phi))\n",
    "pars[1] = -2 * mu0[0]*inv0[0][0] - mu0[1]*(inv0[0][1]+inv0[1][0]) - (-2 * mu1[0]*inv1[0][0] - mu1[1]*(inv1[0][1]+inv1[1][0]))\n",
    "pars[2] = -2 * mu0[1]*inv0[1][1] - mu0[0]*(inv0[0][1]+inv0[1][0]) - (-2 * mu1[1]*inv1[1][1] - mu1[0]*(inv1[0][1]+inv1[1][0]))\n",
    "pars[3] = (inv0[0][1]+inv0[1][0]) - (inv1[0][1]+inv1[1][0])\n",
    "pars[4] = inv0[0][0] - inv1[0][0]\n",
    "pars[5] = inv0[1][1] - inv1[1][1]"
   ]
  },
  {
   "cell_type": "code",
   "execution_count": null,
   "metadata": {
    "scrolled": true
   },
   "outputs": [],
   "source": [
    "pars"
   ]
  },
  {
   "cell_type": "code",
   "execution_count": null,
   "metadata": {},
   "outputs": [],
   "source": [
    "\n",
    "color = ['red' if l == 1 else 'green' for l in datay]\n",
    "plt.scatter(datax[:,0],datax[:,1],color = color,marker = 'x')\n",
    "x = np.linspace(-3,3,100)\n",
    "y = (linepars[0] + linepars[2]*x)/(-linepars[1])\n",
    "plt.plot(y,x, '-r',color = 'blue')\n",
    "xlist = np.linspace(-3, 3, 100) # Create 1-D arrays for x,y dimensions\n",
    "ylist = np.linspace(-3, 3, 100) \n",
    "X,Y = np.meshgrid(xlist, ylist) # Create 2-D grid xlist,ylist values\n",
    "F = pars[0]  + pars[1]*X + pars[2]*Y + pars[3]*X*Y + pars[4]*(X**2) + pars[5]*(Y**2)\n",
    "plt.contour(X, Y, F, [0], colors = 'k', linestyles = 'solid')\n",
    "plt.xlabel(\"x[0]\")\n",
    "plt.ylabel(\"x[1]\")\n",
    "plt.title(\"Quadratic vs Linear Boundary on Training data\")\n",
    "plt.savefig('q4_quad.png')"
   ]
  }
 ],
 "metadata": {
  "kernelspec": {
   "display_name": "Python 3",
   "language": "python",
   "name": "python3"
  },
  "language_info": {
   "codemirror_mode": {
    "name": "ipython",
    "version": 2
   },
   "file_extension": ".py",
   "mimetype": "text/x-python",
   "name": "python",
   "nbconvert_exporter": "python",
   "pygments_lexer": "ipython2",
   "version": "2.7.16"
  }
 },
 "nbformat": 4,
 "nbformat_minor": 2
}
