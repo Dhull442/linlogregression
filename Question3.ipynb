{
 "cells": [
  {
   "cell_type": "code",
   "execution_count": null,
   "metadata": {},
   "outputs": [],
   "source": [
    "import numpy as np\n",
    "import matplotlib.pyplot as plt\n",
    "import math\n",
    "FILE_X = 'data/q3/logisticX.csv'\n",
    "FILE_Y = 'data/q3/logisticY.csv'"
   ]
  },
  {
   "cell_type": "code",
   "execution_count": null,
   "metadata": {},
   "outputs": [],
   "source": [
    "datax = np.genfromtxt(FILE_X, delimiter=',')\n",
    "datay = np.genfromtxt(FILE_Y, delimiter=',')"
   ]
  },
  {
   "cell_type": "code",
   "execution_count": null,
   "metadata": {},
   "outputs": [],
   "source": [
    "#normalizing\n",
    "mean1 = np.mean(datax[:,0])\n",
    "var1 = np.var(datax[:,0])\n",
    "mean2 = np.mean(datax[:,1])\n",
    "var2 = np.var(datax[:,1])\n",
    "datax[:,0] = (datax[:,0] - mean1)/(var1**0.5)\n",
    "datax[:,1] = (datax[:,1] - mean2)/(var2**0.5)"
   ]
  },
  {
   "cell_type": "code",
   "execution_count": null,
   "metadata": {},
   "outputs": [],
   "source": [
    "def sigmoid(n):\n",
    "    return 1/(1+ math.exp(-n))"
   ]
  },
  {
   "cell_type": "code",
   "execution_count": null,
   "metadata": {},
   "outputs": [],
   "source": [
    "num_itr = 5\n",
    "th = np.zeros(3)\n",
    "for itrnum in range(0,num_itr):\n",
    "    loss = 0\n",
    "    H = np.zeros((3,3))\n",
    "    dJ = np.zeros(3)\n",
    "    for i in range(0,len(datax)):\n",
    "        x = np.asarray([1,datax[i,0],datax[i,1]])\n",
    "        eta = np.matmul(th,x)\n",
    "        hx = sigmoid(eta)\n",
    "        error = datay[i] - hx\n",
    "        loss += (error**2)/2\n",
    "        dJ += error * x\n",
    "        Hfac = -hx*(1-hx)\n",
    "        x = np.asarray([x])\n",
    "        H += np.matmul(x.T,x) * Hfac;\n",
    "    th -= np.matmul(np.linalg.inv(H),dJ);\n",
    "    print(loss/len(datax))\n",
    "    print(th)"
   ]
  },
  {
   "cell_type": "code",
   "execution_count": null,
   "metadata": {},
   "outputs": [],
   "source": [
    "val = []\n",
    "bdry = np.asarray([th[0],th[1]])/-th[2] # x2 = m*x1 + c\n",
    "for i in range(0,len(datax)):\n",
    "    x = np.asarray([1,datax[i,0],datax[i,1]])\n",
    "    eta = np.matmul(th,x)\n",
    "    hx = sigmoid(eta)\n",
    "    if(hx > 1-hx):\n",
    "        val.append(1)\n",
    "    else:\n",
    "        val.append(0)\n",
    "\n",
    "\n"
   ]
  },
  {
   "cell_type": "code",
   "execution_count": null,
   "metadata": {},
   "outputs": [],
   "source": [
    "color= ['red' if l == 0 else 'green' for l in val]        \n",
    "# m = ['o' if l == 0 else '^' for l in val]\n",
    "plt.scatter(datax[:,1], datax[:,0],  color=color)\n",
    "\n",
    "\n",
    "x = np.linspace(-3,3,100)\n",
    "y = bdry[0] + bdry[1]*x\n",
    "plt.plot(y, x, '-r',color='blue')"
   ]
  }
 ],
 "metadata": {
  "kernelspec": {
   "display_name": "Python 3",
   "language": "python",
   "name": "python3"
  },
  "language_info": {
   "codemirror_mode": {
    "name": "ipython",
    "version": 2
   },
   "file_extension": ".py",
   "mimetype": "text/x-python",
   "name": "python",
   "nbconvert_exporter": "python",
   "pygments_lexer": "ipython2",
   "version": "2.7.16"
  }
 },
 "nbformat": 4,
 "nbformat_minor": 2
}
